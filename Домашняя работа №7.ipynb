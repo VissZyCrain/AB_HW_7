{
 "cells": [
  {
   "cell_type": "markdown",
   "id": "e7656f98",
   "metadata": {},
   "source": [
    "## Задача "
   ]
  },
  {
   "cell_type": "markdown",
   "id": "e25b974c",
   "metadata": {},
   "source": [
    "На основе выбранных продуктов из первого вебинара, выберите 2 A/B-теста и составьте план эксперимента, чтобы избежать Peeking Problem\n",
    "Распишите, какие метрики и как вы будете анализировать"
   ]
  },
  {
   "cell_type": "markdown",
   "id": "ae6ad4d0",
   "metadata": {},
   "source": [
    "Ключевые метрики:\n",
    "\n",
    "- Количество новых регистраций пользователей\n",
    "- Доход от новых пользователей\n",
    "\n",
    "**Гипотеза № 1:** Если предложить 15% скидку на первую покупку для новых пользователей, то мы сможем повысить количество регистраций новых пользователей на 20%.\n",
    "\n",
    "Что мы делаем в каждой из групп: Даём код на 15% скидку на первую покупку.\n",
    "\n",
    "На каких пользователях мы тестируем: Новые пользователи, которые раньше не делали покупок на сайте.\n",
    "\n",
    "**Метрика: количество новых регистраций пользователей.**\n",
    "\n",
    "**Гипотеза № 2:** Если предоставить персонализированные рекомендации по продуктам новым пользователям на основе их истории просмотров и покупательского поведения, то сможем повысить показатель дохода от новых пользователей на n%.\n",
    "Что мы делаем в каждой из групп: группа новых пользователей получает персонализированные рекомендации.\n",
    "\n",
    "На каких пользователях мы тестируем: На новых пользователях, совершивших хотя бы одну покупку на сайте\n",
    "\n",
    "**Метрика: доход от новых пользователей.**"
   ]
  },
  {
   "cell_type": "markdown",
   "id": "eaf9da03",
   "metadata": {},
   "source": [
    "### Решение "
   ]
  },
  {
   "cell_type": "markdown",
   "id": "ecc834d0",
   "metadata": {},
   "source": [
    "1. Соберём данные о регистрациях и доходах для контрольной и тестовой групп.\n",
    "2. Разделим данные на выборки – каждая выборка будет содержать 10,000 пользователей.\n",
    "3. Для каждой выборки будем считать количество новых регистраций и доход от новых пользователей для контрольной и тестовой групп.\n",
    "4. С помощью бутстрапа будем генерировать 1000 выборок с возвращением.\n",
    "5. Для каждой выборки будем считать различие между контрольной и тестовой групп в количестве новых регистраций и доходе от новых пользователей.\n",
    "6. Построим распределение полученных различий, оценим доверительные интервалы для обеих метрик.\n",
    "7. Если доверительный интервал не содержит 0 (для метрики регистраций) или отрицательных значений (для метрики дохода), то можем сделать вывод о том, что эксперимент был успешным и можно внедрять новые подходы в работу сервиса."
   ]
  },
  {
   "cell_type": "markdown",
   "id": "70070681",
   "metadata": {},
   "source": [
    "*Определяем ключевые билиотеки:*"
   ]
  },
  {
   "cell_type": "code",
   "execution_count": 10,
   "id": "b4eb3cf5",
   "metadata": {},
   "outputs": [],
   "source": [
    "import numpy as np\n",
    "import pandas as pd\n",
    "from scipy.stats import norm"
   ]
  },
  {
   "cell_type": "markdown",
   "id": "4b48773a",
   "metadata": {},
   "source": [
    "*Собираем данные:*"
   ]
  },
  {
   "cell_type": "code",
   "execution_count": 11,
   "id": "61321c84",
   "metadata": {},
   "outputs": [],
   "source": [
    "control_registrations = 10000\n",
    "test_registrations = 10000\n",
    "control_income = 1000000\n",
    "test_income = 1000000"
   ]
  },
  {
   "cell_type": "markdown",
   "id": "66805b38",
   "metadata": {},
   "source": [
    "*Разделяем данные на выборки:*"
   ]
  },
  {
   "cell_type": "code",
   "execution_count": 12,
   "id": "a3799529",
   "metadata": {},
   "outputs": [],
   "source": [
    "control_registrations_list = np.random.binomial(n=1, p=0.05, size=control_registrations)\n",
    "test_registrations_list = np.random.binomial(n=1, p=0.05, size=test_registrations)\n",
    "control_income_list = np.random.normal(loc=100, scale=20, size=control_income)\n",
    "test_income_list = np.random.normal(loc=110, scale=20, size=test_income)"
   ]
  },
  {
   "cell_type": "markdown",
   "id": "d49a866b",
   "metadata": {},
   "source": [
    "*Считаем количество регистраций и доход для контрольной и тестовой групп:*"
   ]
  },
  {
   "cell_type": "code",
   "execution_count": 13,
   "id": "2d5478e2",
   "metadata": {},
   "outputs": [],
   "source": [
    "control_registrations_num = sum(control_registrations_list)\n",
    "test_registrations_num = sum(test_registrations_list)\n",
    "control_income_sum = sum(control_income_list)\n",
    "test_income_sum = sum(test_income_list)"
   ]
  },
  {
   "cell_type": "markdown",
   "id": "10d86d11",
   "metadata": {},
   "source": [
    "*Проводим бутстрап:*"
   ]
  },
  {
   "cell_type": "code",
   "execution_count": 14,
   "id": "292ed85d",
   "metadata": {},
   "outputs": [],
   "source": [
    "n = 1000\n",
    "differences_registrations = []\n",
    "differences_income = []\n",
    "\n",
    "for i in range(n):\n",
    "    control_registrations_sample = np.random.choice(control_registrations_list, size=10000, replace=True)\n",
    "    test_registrations_sample = np.random.choice(test_registrations_list, size=10000, replace=True)\n",
    "    control_income_sample = np.random.choice(control_income_list, size=10000, replace=True)\n",
    "    test_income_sample = np.random.choice(test_income_list, size=10000, replace=True)\n",
    "\n",
    "    sample_diff_registrations = sum(test_registrations_sample) - sum(control_registrations_sample)\n",
    "    sample_diff_income = sum(test_income_sample) - sum(control_income_sample)\n",
    "\n",
    "    differences_registrations.append(sample_diff_registrations)\n",
    "    differences_income.append(sample_diff_income)"
   ]
  },
  {
   "cell_type": "markdown",
   "id": "777b10ed",
   "metadata": {},
   "source": [
    "*Оцениваем доверительный интервал для количества регистраций:*"
   ]
  },
  {
   "cell_type": "code",
   "execution_count": 15,
   "id": "d6388d18",
   "metadata": {},
   "outputs": [
    {
     "name": "stdout",
     "output_type": "stream",
     "text": [
      "95% доверительный интервал для количества регистраций:  (24.16281122084262, 28.08118877915738)\n"
     ]
    }
   ],
   "source": [
    "difference_registrations_mean = np.mean(differences_registrations)\n",
    "difference_registrations_std = np.std(differences_registrations)\n",
    "ci_registrations = norm.interval(0.95, loc=difference_registrations_mean, scale=difference_registrations_std/np.sqrt(n))\n",
    "print(\"95% доверительный интервал для количества регистраций: \", ci_registrations)\n",
    "     "
   ]
  },
  {
   "cell_type": "markdown",
   "id": "a4583918",
   "metadata": {},
   "source": [
    "*Оцениваем доверительный интервал для дохода:*"
   ]
  },
  {
   "cell_type": "code",
   "execution_count": 16,
   "id": "8ab24a38",
   "metadata": {},
   "outputs": [
    {
     "name": "stdout",
     "output_type": "stream",
     "text": [
      "95% доверительный интервал для дохода:  (99607.17974857635, 99959.25455525743)\n"
     ]
    }
   ],
   "source": [
    "difference_income_mean = np.mean(differences_income)\n",
    "difference_income_std = np.std(differences_income)\n",
    "ci_income = norm.interval(0.95, loc=difference_income_mean, scale=difference_income_std/np.sqrt(n))\n",
    "print(\"95% доверительный интервал для дохода: \", ci_income)"
   ]
  },
  {
   "cell_type": "markdown",
   "id": "4aedfaac",
   "metadata": {},
   "source": [
    "### Ответ:"
   ]
  },
  {
   "cell_type": "markdown",
   "id": "be1ed900",
   "metadata": {},
   "source": [
    "Так как, доверительный интервал не содержит 0 (для метрики регистраций) и отрицательных значений (для метрики дохода), то можем сделать вывод о том, что эксперимент был успешным и можно внедрять новые подходы в работу сервиса."
   ]
  }
 ],
 "metadata": {
  "kernelspec": {
   "display_name": "Python 3 (ipykernel)",
   "language": "python",
   "name": "python3"
  },
  "language_info": {
   "codemirror_mode": {
    "name": "ipython",
    "version": 3
   },
   "file_extension": ".py",
   "mimetype": "text/x-python",
   "name": "python",
   "nbconvert_exporter": "python",
   "pygments_lexer": "ipython3",
   "version": "3.9.13"
  }
 },
 "nbformat": 4,
 "nbformat_minor": 5
}
